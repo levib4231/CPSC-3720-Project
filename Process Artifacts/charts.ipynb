{
 "cells": [
  {
   "cell_type": "code",
   "execution_count": null,
   "id": "ac1ad86d",
   "metadata": {},
   "outputs": [],
   "source": [
    "import matplotlib.pyplot as plt\n",
    "\n",
    "# Stakeholder data (influence and interest on a 0–100 scale)\n",
    "stakeholders = {\n",
    "    \"Clemson Students\": {\"influence\": 40, \"interest\": 90},\n",
    "    \"Clemson University Reservations & Events\": {\"influence\": 85, \"interest\": 80},\n",
    "    \"Clemson Student Organizations\": {\"influence\": 60, \"interest\": 70},\n",
    "}\n",
    "\n",
    "# Create figure and axis\n",
    "fig, ax = plt.subplots(figsize=(8, 6))\n",
    "\n",
    "# Scatter plot each stakeholder\n",
    "for name, vals in stakeholders.items():\n",
    "    ax.scatter(vals[\"influence\"], vals[\"interest\"], s=100, marker=\"o\")\n",
    "    ax.annotate(name,\n",
    "                (vals[\"influence\"] + 2, vals[\"interest\"] + 2),\n",
    "                fontsize=9)\n",
    "\n",
    "# Draw quadrant lines\n",
    "ax.axvline(50, linestyle=\"--\", color=\"gray\")\n",
    "ax.axhline(50, linestyle=\"--\", color=\"gray\")\n",
    "\n",
    "# Quadrant labels\n",
    "ax.text(75, 90, \"Manage Closely\\n(High Influence, High Interest)\", \n",
    "        fontsize=9, ha=\"center\", va=\"center\", color=\"darkgreen\")\n",
    "ax.text(25, 90, \"Keep Informed\\n(Low Influence, High Interest)\", \n",
    "        fontsize=9, ha=\"center\", va=\"center\", color=\"blue\")\n",
    "ax.text(75, 10, \"Keep Satisfied\\n(High Influence, Low Interest)\", \n",
    "        fontsize=9, ha=\"center\", va=\"center\", color=\"orange\")\n",
    "ax.text(25, 10, \"Monitor\\n(Low Influence, Low Interest)\", \n",
    "        fontsize=9, ha=\"center\", va=\"center\", color=\"red\")\n",
    "\n",
    "# Style plot\n",
    "ax.set_title(\"Stakeholder Map — TigerTix\", fontsize=14, fontweight=\"bold\")\n",
    "ax.set_xlabel(\"Influence (0–100)\", fontsize=12)\n",
    "ax.set_ylabel(\"Interest (0–100)\", fontsize=12)\n",
    "ax.set_xlim(0, 100)\n",
    "ax.set_ylim(0, 100)\n",
    "\n",
    "plt.tight_layout()\n",
    "plt.show()"
   ]
  }
 ],
 "metadata": {
  "language_info": {
   "name": "python"
  }
 },
 "nbformat": 4,
 "nbformat_minor": 5
}
